{
 "cells": [
  {
   "cell_type": "code",
   "execution_count": 1,
   "id": "e0038b46",
   "metadata": {},
   "outputs": [
    {
     "name": "stdout",
     "output_type": "stream",
     "text": [
      "enter number2\n"
     ]
    },
    {
     "ename": "TypeError",
     "evalue": "can only concatenate str (not \"int\") to str",
     "output_type": "error",
     "traceback": [
      "\u001b[1;31m---------------------------------------------------------------------------\u001b[0m",
      "\u001b[1;31mTypeError\u001b[0m                                 Traceback (most recent call last)",
      "\u001b[1;32m<ipython-input-1-bde4b5891861>\u001b[0m in \u001b[0;36m<module>\u001b[1;34m\u001b[0m\n\u001b[0;32m      1\u001b[0m \u001b[0mx\u001b[0m\u001b[1;33m=\u001b[0m\u001b[0minput\u001b[0m\u001b[1;33m(\u001b[0m\u001b[1;34m'enter number'\u001b[0m\u001b[1;33m)\u001b[0m\u001b[1;33m\u001b[0m\u001b[1;33m\u001b[0m\u001b[0m\n\u001b[0;32m      2\u001b[0m \u001b[0my\u001b[0m\u001b[1;33m=\u001b[0m\u001b[1;36m23\u001b[0m\u001b[1;33m\u001b[0m\u001b[1;33m\u001b[0m\u001b[0m\n\u001b[1;32m----> 3\u001b[1;33m \u001b[0mz\u001b[0m\u001b[1;33m=\u001b[0m\u001b[0mx\u001b[0m\u001b[1;33m+\u001b[0m\u001b[0my\u001b[0m\u001b[1;33m\u001b[0m\u001b[1;33m\u001b[0m\u001b[0m\n\u001b[0m\u001b[0;32m      4\u001b[0m \u001b[0mprint\u001b[0m\u001b[1;33m(\u001b[0m\u001b[0mz\u001b[0m\u001b[1;33m)\u001b[0m\u001b[1;33m\u001b[0m\u001b[1;33m\u001b[0m\u001b[0m\n",
      "\u001b[1;31mTypeError\u001b[0m: can only concatenate str (not \"int\") to str"
     ]
    }
   ],
   "source": [
    "x=input('enter number')\n",
    "y=23\n",
    "z=x+y\n",
    "print(z)"
   ]
  },
  {
   "cell_type": "code",
   "execution_count": 2,
   "id": "25045d16",
   "metadata": {},
   "outputs": [
    {
     "name": "stdout",
     "output_type": "stream",
     "text": [
      "enter number2\n",
      "25\n"
     ]
    }
   ],
   "source": [
    "x=input('enter number')\n",
    "y=23\n",
    "z=int(x)+y\n",
    "print(z)"
   ]
  },
  {
   "cell_type": "code",
   "execution_count": 3,
   "id": "2998285f",
   "metadata": {},
   "outputs": [
    {
     "name": "stdout",
     "output_type": "stream",
     "text": [
      "9\n"
     ]
    }
   ],
   "source": [
    "x=3**2\n",
    "print(x)"
   ]
  },
  {
   "cell_type": "code",
   "execution_count": 5,
   "id": "db4083d7",
   "metadata": {},
   "outputs": [
    {
     "name": "stdout",
     "output_type": "stream",
     "text": [
      "hello\n",
      " world\n"
     ]
    }
   ],
   "source": [
    "print('hello\\n world')"
   ]
  },
  {
   "cell_type": "code",
   "execution_count": 7,
   "id": "86dbb5ef",
   "metadata": {},
   "outputs": [
    {
     "name": "stdout",
     "output_type": "stream",
     "text": [
      "False\n"
     ]
    }
   ],
   "source": [
    "x=2\n",
    "y=5\n",
    "a=7\n",
    "b=3\n",
    "if x+y==a-b:\n",
    "    print(True)\n",
    "else:\n",
    "    print(False)"
   ]
  },
  {
   "cell_type": "code",
   "execution_count": 10,
   "id": "0f06cbf4",
   "metadata": {},
   "outputs": [
    {
     "name": "stdout",
     "output_type": "stream",
     "text": [
      "enter your age18\n",
      "enter your gendermale\n",
      "allow\n"
     ]
    }
   ],
   "source": [
    "age=int(input('enter your age'))\n",
    "gender=input('enter your gender')\n",
    "if age>=18 and gender=='male':\n",
    "    print('allow')\n",
    "else:\n",
    "    print('do not allow')"
   ]
  },
  {
   "cell_type": "code",
   "execution_count": 12,
   "id": "b94bbe0b",
   "metadata": {},
   "outputs": [
    {
     "name": "stdout",
     "output_type": "stream",
     "text": [
      "enter your age2\n",
      "enter your gender male\n",
      "allow\n"
     ]
    }
   ],
   "source": [
    "age=int(input('enter your age'))\n",
    "gender=input('enter your gender ')\n",
    "if age>=18 or gender=='male':\n",
    "    print('allow')\n",
    "else:\n",
    "    print('do not allow')"
   ]
  },
  {
   "cell_type": "code",
   "execution_count": null,
   "id": "7e8a7463",
   "metadata": {},
   "outputs": [],
   "source": [
    "#  or                          and\n",
    "# 1+1=True                  1*1=True\n",
    "# 1+0=True                  1*0=False \n",
    "# 0+1=True                  0*1=False\n",
    "# 0+0=False                 0*0=False"
   ]
  },
  {
   "cell_type": "code",
   "execution_count": 15,
   "id": "d7aa5ec2",
   "metadata": {},
   "outputs": [
    {
     "name": "stdout",
     "output_type": "stream",
     "text": [
      "hello moto\n"
     ]
    }
   ],
   "source": [
    "'''heloo moto'''\n",
    "print('hello moto')"
   ]
  },
  {
   "cell_type": "code",
   "execution_count": 17,
   "id": "ebb1442d",
   "metadata": {},
   "outputs": [
    {
     "name": "stdout",
     "output_type": "stream",
     "text": [
      "enter number x=2\n",
      "enter number y=2\n",
      "enter number a=3\n",
      "enter number b=4\n",
      "enter number c=2\n",
      "enter number d=2\n",
      "enter number h=3\n",
      "enter number f=4\n",
      "3\n"
     ]
    }
   ],
   "source": [
    "x=int(input('enter number x='))\n",
    "y=int(input('enter number y='))\n",
    "a=int(input('enter number a='))\n",
    "b=int(input('enter number b='))\n",
    "c=int(input('enter number c='))\n",
    "d=int(input('enter number d='))\n",
    "h=int(input('enter number h='))\n",
    "f=int(input('enter number f='))\n",
    "if(x==y or a==b) and c==d:\n",
    "    g=h\n",
    "    print(g)\n",
    "else:\n",
    "    e=f\n",
    "    print(e)\n"
   ]
  },
  {
   "cell_type": "code",
   "execution_count": 18,
   "id": "f6b4ef0d",
   "metadata": {},
   "outputs": [],
   "source": [
    "if (x == y or a == b) and c == d:\n",
    "    g = h\n",
    "else:\n",
    "    e = f\n"
   ]
  },
  {
   "cell_type": "code",
   "execution_count": null,
   "id": "fcd73938",
   "metadata": {},
   "outputs": [],
   "source": [
    "# if statements nested\n",
    "if c == d:\n",
    "    if x == y:\n",
    "        g = h\n",
    "    elif a == b:\n",
    "        g = h\n",
    "    else:\n",
    "        e = f\n",
    "else:\n",
    "    e = f"
   ]
  },
  {
   "cell_type": "code",
   "execution_count": 20,
   "id": "2d97f8ba",
   "metadata": {},
   "outputs": [
    {
     "name": "stdout",
     "output_type": "stream",
     "text": [
      "['ayesha', 'taha', 'aslam', 'fizza', 'ali']\n"
     ]
    }
   ],
   "source": [
    "#list\n",
    "name=['ayesha','taha','aslam','fizza','ali']\n",
    "print(name)"
   ]
  },
  {
   "cell_type": "code",
   "execution_count": 22,
   "id": "eef60d78",
   "metadata": {},
   "outputs": [
    {
     "name": "stdout",
     "output_type": "stream",
     "text": [
      "ayesha\n"
     ]
    }
   ],
   "source": [
    "print(name[0])"
   ]
  },
  {
   "cell_type": "code",
   "execution_count": 23,
   "id": "a9a40e4a",
   "metadata": {},
   "outputs": [
    {
     "name": "stdout",
     "output_type": "stream",
     "text": [
      "['nimra', 'taha', 'aslam', 'fizza', 'ali']\n"
     ]
    }
   ],
   "source": [
    "name[0]='nimra' #replace\n",
    "print(name)"
   ]
  },
  {
   "cell_type": "code",
   "execution_count": 25,
   "id": "561b44a0",
   "metadata": {},
   "outputs": [
    {
     "name": "stdout",
     "output_type": "stream",
     "text": [
      "['nimra', 'taha', 'aslam', 'fizza', 'ali', 'tehreem']\n"
     ]
    }
   ],
   "source": [
    "name.append('tehreem')       # add in the last\n",
    "print(name)"
   ]
  },
  {
   "cell_type": "code",
   "execution_count": 30,
   "id": "de1147b4",
   "metadata": {},
   "outputs": [
    {
     "name": "stdout",
     "output_type": "stream",
     "text": [
      "['lion', 12, True, 5.69]\n"
     ]
    }
   ],
   "source": [
    "arr=['lion',12,True,5.69]\n",
    "print(arr)"
   ]
  },
  {
   "cell_type": "code",
   "execution_count": 31,
   "id": "beef0187",
   "metadata": {},
   "outputs": [
    {
     "data": {
      "text/plain": [
       "['lion', 12, True, 5.69]"
      ]
     },
     "execution_count": 31,
     "metadata": {},
     "output_type": "execute_result"
    }
   ],
   "source": [
    "arr\n"
   ]
  },
  {
   "cell_type": "code",
   "execution_count": 32,
   "id": "7d13c1b9",
   "metadata": {},
   "outputs": [
    {
     "name": "stdout",
     "output_type": "stream",
     "text": [
      "['nimra', 'taha', 'aslam', 'fizza', 'ali', 'tehreem', 'tehreem', 'lion', 12, True, 5.69]\n"
     ]
    }
   ],
   "source": [
    "new_list=name+arr\n",
    "print(new_list)"
   ]
  },
  {
   "cell_type": "code",
   "execution_count": 35,
   "id": "f32e4028",
   "metadata": {},
   "outputs": [
    {
     "name": "stdout",
     "output_type": "stream",
     "text": [
      "['nimra', 'taha', 'aslam', 'fizza', 'ali', 'tehreem', 'tehreem', 'lion', 12, True, 5.69]\n"
     ]
    }
   ],
   "source": [
    "newList=name+arr\n",
    "print(newList)"
   ]
  },
  {
   "cell_type": "code",
   "execution_count": 36,
   "id": "e2465837",
   "metadata": {},
   "outputs": [
    {
     "name": "stdout",
     "output_type": "stream",
     "text": [
      "['lion', 'apple', 12, True, 5.69]\n"
     ]
    }
   ],
   "source": [
    "arr.insert(1,'apple')  # add in the desired place\n",
    "print(arr)"
   ]
  },
  {
   "cell_type": "code",
   "execution_count": 37,
   "id": "7d714510",
   "metadata": {},
   "outputs": [
    {
     "name": "stdout",
     "output_type": "stream",
     "text": [
      "[12, True]\n"
     ]
    }
   ],
   "source": [
    "print(arr[2:4])"
   ]
  },
  {
   "cell_type": "code",
   "execution_count": 45,
   "id": "7c38f790",
   "metadata": {},
   "outputs": [
    {
     "name": "stdout",
     "output_type": "stream",
     "text": [
      "[12, True]\n"
     ]
    }
   ],
   "source": [
    "arr2=arr[2:4]\n",
    "print(arr2)"
   ]
  },
  {
   "cell_type": "code",
   "execution_count": 46,
   "id": "f2aef789",
   "metadata": {},
   "outputs": [
    {
     "name": "stdout",
     "output_type": "stream",
     "text": [
      "['lion', 'apple', 12]\n"
     ]
    }
   ],
   "source": [
    "arr3=arr[:3]\n",
    "print(arr3)"
   ]
  },
  {
   "cell_type": "code",
   "execution_count": 47,
   "id": "5438a1ff",
   "metadata": {},
   "outputs": [
    {
     "name": "stdout",
     "output_type": "stream",
     "text": [
      "['lion', 'apple', True, 5.69]\n"
     ]
    }
   ],
   "source": [
    "del arr[2]   #delete elemete\n",
    "print(arr)"
   ]
  },
  {
   "cell_type": "code",
   "execution_count": 51,
   "id": "6c5c5486",
   "metadata": {},
   "outputs": [
    {
     "name": "stdout",
     "output_type": "stream",
     "text": [
      "['lion', 5.69]\n"
     ]
    }
   ],
   "source": [
    "arr.remove('apple')    #delete element\n",
    "print(arr)"
   ]
  },
  {
   "cell_type": "code",
   "execution_count": 52,
   "id": "4c27a9b5",
   "metadata": {},
   "outputs": [
    {
     "name": "stdout",
     "output_type": "stream",
     "text": [
      "['lion']\n"
     ]
    }
   ],
   "source": [
    "arr.pop()     #delete last element\n",
    "print(arr)"
   ]
  },
  {
   "cell_type": "code",
   "execution_count": null,
   "id": "71d4c4c0",
   "metadata": {},
   "outputs": [],
   "source": []
  }
 ],
 "metadata": {
  "kernelspec": {
   "display_name": "Python 3",
   "language": "python",
   "name": "python3"
  },
  "language_info": {
   "codemirror_mode": {
    "name": "ipython",
    "version": 3
   },
   "file_extension": ".py",
   "mimetype": "text/x-python",
   "name": "python",
   "nbconvert_exporter": "python",
   "pygments_lexer": "ipython3",
   "version": "3.8.8"
  }
 },
 "nbformat": 4,
 "nbformat_minor": 5
}
