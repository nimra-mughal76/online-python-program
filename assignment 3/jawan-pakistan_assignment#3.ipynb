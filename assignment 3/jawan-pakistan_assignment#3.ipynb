{
 "cells": [
  {
   "cell_type": "code",
   "execution_count": 27,
   "id": "36cda5dd",
   "metadata": {},
   "outputs": [
    {
     "name": "stdout",
     "output_type": "stream",
     "text": [
      "Twinkle, twinkle, little star,\n",
      "         How I wonder what you are! \n",
      "                 Up above the world so high, \n",
      "                 Like a diamond in the sky. \n",
      "Twinkle, twinkle, little star,\n",
      "         How I wonder what you are\n"
     ]
    }
   ],
   "source": [
    "# 1. Write a Python program to print the following string in a specific format (see the output).\n",
    "\n",
    "# Twinkle, twinkle, little star,\n",
    "# How I wonder what you are!\n",
    "# Up above the world so high,\n",
    "# Like a diamond in the sky.\n",
    "# Twinkle, twinkle, little star,\n",
    "# How I wonder what you are '''\n",
    "\n",
    "print(\"Twinkle, twinkle, little star,\\n         How I wonder what you are! \\n                 Up above the world so high, \\n                 Like a diamond in the sky. \\nTwinkle, twinkle, little star,\\n         How I wonder what you are\")"
   ]
  },
  {
   "cell_type": "code",
   "execution_count": 29,
   "id": "d7a153ad",
   "metadata": {},
   "outputs": [
    {
     "name": "stdout",
     "output_type": "stream",
     "text": [
      "3.8.8 (default, Apr 13 2021, 15:08:03) [MSC v.1916 64 bit (AMD64)]\n",
      "sys.version_info(major=3, minor=8, micro=8, releaselevel='final', serial=0)\n"
     ]
    }
   ],
   "source": [
    "# 2. Write a Python program to get the Python version you are using\n",
    "\n",
    "import sys\n",
    "print(sys.version)\n",
    "print(sys.version_info)"
   ]
  },
  {
   "cell_type": "code",
   "execution_count": null,
   "id": "9c0b748f",
   "metadata": {},
   "outputs": [],
   "source": [
    "# 3. Write a Python program to display the current date and time.\n",
    "\n",
    "import datetime\n",
    "todaydate=datetime.datetime.now()\n",
    "print(todaydate)"
   ]
  },
  {
   "cell_type": "code",
   "execution_count": null,
   "id": "97da0842",
   "metadata": {},
   "outputs": [],
   "source": [
    "# 3.\n",
    "import datetime\n",
    "todaydate=datetime.datetime.now()\n",
    "year=todaydate.strftime('%y')\n",
    "month=todaydate.strftime('%m')\n",
    "day=todaydate.strftime('%d')\n",
    "formatdate=day+'-'+month+'-'+year\n",
    "print(formatdate)"
   ]
  },
  {
   "cell_type": "code",
   "execution_count": 30,
   "id": "ee76e021",
   "metadata": {},
   "outputs": [
    {
     "name": "stdout",
     "output_type": "stream",
     "text": [
      "enter number=2\n",
      "12.568\n"
     ]
    }
   ],
   "source": [
    "# 4. Write a Python program which accepts the radius of a circle from the user and compute \n",
    "#    the area.\n",
    "\n",
    "r=int(input('enter number='))\n",
    "area=3.142*r**2\n",
    "print(area)"
   ]
  },
  {
   "cell_type": "code",
   "execution_count": 31,
   "id": "498f1234",
   "metadata": {},
   "outputs": [
    {
     "name": "stdout",
     "output_type": "stream",
     "text": [
      "enter first name=aslam\n",
      "enter last name=baig\n",
      "baig aslam\n"
     ]
    }
   ],
   "source": [
    "# 5. Write a Python program which accepts the user's first and last name and print them in \n",
    "#    reverse order with a space between them.\n",
    "\n",
    "a=input('enter first name=')\n",
    "b=input('enter last name=')\n",
    "print(b+' '+ a)\n"
   ]
  },
  {
   "cell_type": "code",
   "execution_count": 32,
   "id": "92a8b053",
   "metadata": {},
   "outputs": [
    {
     "name": "stdout",
     "output_type": "stream",
     "text": [
      "enter first number=2\n",
      "ennter second number=2\n",
      "4\n"
     ]
    }
   ],
   "source": [
    "# 6. Write a python program which takes two inputs from user and print them addition\n",
    "\n",
    "a=int(input('enter first number='))\n",
    "b=int(input('ennter second number='))\n",
    "print(a+b)"
   ]
  },
  {
   "cell_type": "code",
   "execution_count": 33,
   "id": "24bb7ab2",
   "metadata": {},
   "outputs": [
    {
     "name": "stdout",
     "output_type": "stream",
     "text": [
      "enter number=34\n",
      "enter number=56\n",
      "enter number=78\n",
      "enter number=56\n",
      "enter number=90\n",
      "62.8\n",
      "grade B\n"
     ]
    }
   ],
   "source": [
    "# 7. Write a program which takes 5 inputs from user for different subject’s marks, total it\n",
    "#    and generate mark sheet using grades ?\n",
    "\n",
    "Eng=int(input('enter number='))\n",
    "Isl=int(input('enter number='))\n",
    "Maths=int(input('enter number='))\n",
    "bio=int(input('enter number='))\n",
    "phy=int(input('enter number='))\n",
    "Total_Marks=500\n",
    "percentage=(((Eng+Isl+Maths+bio+phy)/Total_Marks)*100)\n",
    "print(percentage)\n",
    "if percentage<100 and percentage>80:\n",
    "    print('grade A+')\n",
    "elif percentage<80 and percentage>70:\n",
    "    print('grade A')\n",
    "elif percentage<70 and percentage>60:\n",
    "    print('grade B')\n",
    "elif percentage<60 and percentage>50:\n",
    "    print('grade C')\n",
    "elif percentage<50 and percentage>40:\n",
    "    print('grade D')\n",
    "elif percentage<40 and percentage>30:\n",
    "    print('grade E')\n",
    "else:\n",
    "    print('FAIL')"
   ]
  },
  {
   "cell_type": "code",
   "execution_count": 1,
   "id": "fdafd4fc",
   "metadata": {},
   "outputs": [
    {
     "name": "stdout",
     "output_type": "stream",
     "text": [
      "enter number=88\n",
      "88 is even number\n"
     ]
    }
   ],
   "source": [
    "# 8. Write a program which take input from user and identify that the given number is even\n",
    "#    or odd?\n",
    "\n",
    "a=int(input('enter number='))\n",
    "if a%2==0:\n",
    "    print(a,'is even number')\n",
    "else:\n",
    "    print(a,'is odd number')"
   ]
  },
  {
   "cell_type": "code",
   "execution_count": 11,
   "id": "e9ba2bd6",
   "metadata": {},
   "outputs": [
    {
     "name": "stdout",
     "output_type": "stream",
     "text": [
      "length of the list is 6\n"
     ]
    }
   ],
   "source": [
    "# 9. Write a program which print the length of the list?\n",
    "\n",
    "arr=['apple','mango','banana','carrot','orrange','pineapple']\n",
    "a=len(arr)\n",
    "print('length of the list is',a)"
   ]
  },
  {
   "cell_type": "code",
   "execution_count": 12,
   "id": "50aa1e05",
   "metadata": {},
   "outputs": [
    {
     "name": "stdout",
     "output_type": "stream",
     "text": [
      "sum is 15\n"
     ]
    }
   ],
   "source": [
    "# 10.Write a Python program to sum all the numeric items in a list?\n",
    "\n",
    "arr=[2,3,4,2,1,3]\n",
    "a=sum(arr)\n",
    "print('sum is',a)"
   ]
  },
  {
   "cell_type": "code",
   "execution_count": 18,
   "id": "bdae8c80",
   "metadata": {},
   "outputs": [
    {
     "name": "stdout",
     "output_type": "stream",
     "text": [
      "the largest number is 500\n",
      "the smallest number is 1\n"
     ]
    }
   ],
   "source": [
    "# 11.Write a Python program to get the largest number from a numeric list.\n",
    "\n",
    "arr=[100,50,200,40,90,1,500]\n",
    "a=max(arr)\n",
    "b=min(arr)\n",
    "print('the largest number is',a)\n",
    "print('the smallest number is',b)"
   ]
  },
  {
   "cell_type": "code",
   "execution_count": 21,
   "id": "5b399623",
   "metadata": {},
   "outputs": [
    {
     "name": "stdout",
     "output_type": "stream",
     "text": [
      "[1, 40, 50, 90, 100, 200, 500]\n",
      "the largest number is 500\n",
      "the smallest number is 1\n"
     ]
    }
   ],
   "source": [
    "# 11.\n",
    "\n",
    "arr=[100,50,200,40,90,1,500]\n",
    "arr.sort()   #from this the list is sorted\n",
    "print(arr)\n",
    "a=arr[0]\n",
    "b=arr[-1]\n",
    "print('the largest number is',b)\n",
    "print('the smallest number is',a)\n"
   ]
  },
  {
   "cell_type": "code",
   "execution_count": null,
   "id": "ee00b607",
   "metadata": {},
   "outputs": [],
   "source": []
  }
 ],
 "metadata": {
  "kernelspec": {
   "display_name": "Python 3",
   "language": "python",
   "name": "python3"
  },
  "language_info": {
   "codemirror_mode": {
    "name": "ipython",
    "version": 3
   },
   "file_extension": ".py",
   "mimetype": "text/x-python",
   "name": "python",
   "nbconvert_exporter": "python",
   "pygments_lexer": "ipython3",
   "version": "3.8.8"
  }
 },
 "nbformat": 4,
 "nbformat_minor": 5
}
